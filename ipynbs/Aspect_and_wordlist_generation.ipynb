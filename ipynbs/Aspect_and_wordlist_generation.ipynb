{
 "cells": [
  {
   "cell_type": "code",
   "execution_count": 43,
   "metadata": {
    "collapsed": false
   },
   "outputs": [],
   "source": [
    "from pymongo import MongoClient\n",
    "from srs.database import connect_to_db\n",
    "from srs.utilities import Sentence, tokenize\n",
    "from nltk import pos_tag\n",
    "from collections import Counter\n",
    "import math"
   ]
  },
  {
   "cell_type": "code",
   "execution_count": 44,
   "metadata": {
    "collapsed": false
   },
   "outputs": [],
   "source": [
    "def get_category_dict():\n",
    "    \"\"\"Build a dictionary whose key is the category tuple, and the value is a list of product_ids:\"\"\"\n",
    "    client, db = connect_to_db()\n",
    "    cursor = db.product_collection.find()\n",
    "    category_dict = {}\n",
    "    i = 0\n",
    "    for product in cursor:\n",
    "        i += 1   \n",
    "        if i % 10000 == 0:\n",
    "            print i\n",
    "        category = product['category']\n",
    "        category_short = tuple(category[:3]) #generally category is 4-tuple. Now limit to the first three tuple\n",
    "        product_id = product['product_id']\n",
    "\n",
    "        if category_short not in category_dict:\n",
    "            category_dict[category_short] = [product_id]\n",
    "        else:\n",
    "            category_dict[category_short].append(product_id)\n",
    "    client.close()\n",
    "    \n",
    "    return category_dict\n",
    "\n",
    "def show_category(category_dict, min_product_num):\n",
    "    \"\"\"Sort the categories according to the number of products in that category, and print them from top\"\"\"\n",
    "    category_list_sorted = []\n",
    "    category_list = []\n",
    "    for key in category_dict:\n",
    "        length = len(category_dict[key])\n",
    "        category_list.append([length, key])\n",
    "    category_list_sorted = sorted(category_list, key=lambda tup: tup[0], reverse=True)\n",
    "\n",
    "    for category_data in category_list_sorted:\n",
    "        if category_data[0] > min_product_num:\n",
    "            print category_data"
   ]
  },
  {
   "cell_type": "code",
   "execution_count": null,
   "metadata": {
    "collapsed": true
   },
   "outputs": [],
   "source": [
    "category_dict = get_category_dict()"
   ]
  },
  {
   "cell_type": "code",
   "execution_count": 42,
   "metadata": {
    "collapsed": false
   },
   "outputs": [
    {
     "name": "stdout",
     "output_type": "stream",
     "text": [
      "[201512, (u'Cell Phones & Accessories', u'Cases', u'Basic Cases')]\n",
      "[54232, (u'Electronics', u'Computers & Accessories', u'Laptop & Netbook Computer Accessories')]\n",
      "[50234, (u'Electronics', u'Computers & Accessories', u'Cables & Accessories')]\n",
      "[46040, (u'Electronics', u'Accessories & Supplies', u'Audio & Video Accessories')]\n",
      "[40292, (u'Electronics', u'Camera & Photo', u'Accessories')]\n",
      "[36801, (u'Electronics', u'Computers & Accessories', u'Touch Screen Tablet Accessories')]\n",
      "[26273, (u'Electronics', u'Computers & Accessories', u'Computer Components')]\n",
      "[25569, (u'Electronics', u'Portable Audio & Video', u'MP3 Players & Accessories')]\n",
      "[25256, (u'Cell Phones & Accessories', u'Accessories', u'Accessory Kits')]\n",
      "[16506, (u'Cell Phones & Accessories', u'Accessories', u'Chargers')]\n",
      "[15195, (u'Cell Phones & Accessories', u'Accessories', u'Screen Protectors')]\n",
      "[14752, (u'Electronics', u'Car & Vehicle Electronics', u'Car Electronics')]\n",
      "[11840, (u'Electronics', u'Computers & Accessories', u'Data Storage')]\n",
      "[11747, (u'Electronics', u'Camera & Photo', u'Bags & Cases')]\n",
      "[9669, (u'Cell Phones & Accessories', u'Accessories', u'Headsets')]\n",
      "[9326, (u'Cell Phones & Accessories', u'Accessories', u'Batteries')]\n",
      "[9150, (u'Electronics', u'Computers & Accessories', u'Laptops')]\n",
      "[9050, (u'Electronics', u'Car & Vehicle Electronics', u'Vehicle Electronics Accessories')]\n",
      "[8414, (u'Electronics', u'Camera & Photo', u'Lighting & Studio')]\n",
      "[8174, (u'Electronics', u'Home Audio', u'Stereo Components')]\n",
      "[7916, (u'Electronics', u'Camera & Photo', u'Digital Cameras')]\n",
      "[7585, (u'Electronics', u'Computers & Accessories', u'Networking Products')]\n",
      "[7472, (u'Electronics', u'Accessories & Supplies', u'Batteries, Chargers & Accessories')]\n",
      "[6351, (u'Cell Phones & Accessories', u'Accessories', u'Replacement Parts')]\n",
      "[6024, (u'Cell Phones & Accessories', u'Cell Phones', u'Unlocked Cell Phones')]\n",
      "[5953, (u'Cell Phones & Accessories', u'Accessories', u'Data Cables')]\n",
      "[5689, (u'Cell Phones & Accessories', u'Accessories', u'Car Accessories')]\n",
      "[5123, (u'Electronics', u'GPS & Navigation', u'GPS System Accessories')]\n",
      "[4485, (u'Electronics', u'Computers & Accessories')]\n",
      "[4227, (u'Electronics', u'Television & Video', u'Televisions')]\n",
      "[4081, (u'Cell Phones & Accessories', u'Cases', u'Holsters & Clips')]\n",
      "[4027, (u'Electronics', u'Accessories & Supplies', u'Telephone Accessories')]\n",
      "[3870, (u'Electronics', u'Computers & Accessories', u'Desktops')]\n",
      "[3812, (u'Electronics', u'Camera & Photo', u'Video Surveillance')]\n",
      "[3737, (u'Electronics', u'Camera & Photo', u'Lenses')]\n",
      "[3731, (u'Electronics', u'Computers & Accessories', u'Monitors')]\n",
      "[3694, (u'Electronics', u'Camera & Photo', u'Tripods & Monopods')]\n",
      "[3346, (u'Electronics', u'Camera & Photo', u'Binoculars & Scopes')]\n",
      "[3346, (u'Cell Phones & Accessories', u'Accessories', u'Stylus Pens')]\n",
      "[3346, (u'Electronics', u'eBook Readers & Accessories', u'Covers')]\n",
      "[3149, (u'Electronics', u'Camera & Photo', u'Video')]\n",
      "[3037, (u'Electronics', u'Computers & Accessories', u'PDAs, Handhelds & Accessories')]\n",
      "[2976, (u'Electronics', u'Portable Audio & Video', u'CB & Two-Way Radios')]\n",
      "[2944, (u'Cell Phones & Accessories', u'Accessories', u'Phone Charms')]\n",
      "[2467, (u'Electronics', u'Television & Video', u'DVD Players & Recorders')]\n",
      "[2439, (u'Electronics', u'Computers & Accessories', u'Tablets')]\n",
      "[2340, (u'Electronics', u'Accessories & Supplies', u'Blank Media')]\n",
      "[1832, (u'Electronics', u'Computers & Accessories', u'External Components')]\n",
      "[1665, (u'Electronics', u'Accessories & Supplies')]\n",
      "[1633, (u'Electronics', u'Camera & Photo', u'Film Photography')]\n",
      "[1559, (u'Electronics', u'Computers & Accessories', u'Routers')]\n",
      "[1543, (u'Electronics', u'Camera & Photo')]\n",
      "[1486, (u'Electronics', u'Computers & Accessories', u'Video Projectors')]\n",
      "[1459, (u'Electronics', u'Accessories & Supplies', u'Cord Management')]\n",
      "[1389, (u'Cell Phones & Accessories', u'Cases', u'Armbands')]\n",
      "[1347, (u'Cell Phones & Accessories', u'Accessories')]\n",
      "[1211, (u'Electronics', u'Security & Surveillance', u'Home Security Systems')]\n",
      "[1204, (u'Electronics', u'Camera & Photo', u'Flashes')]\n",
      "[1171, (u'Electronics', u'Portable Audio & Video', u'Radios')]\n",
      "[1134, (u'Electronics', u'Computers & Accessories', u'Webcams')]\n",
      "[1126, (u'Electronics', u'GPS & Navigation', u'Sports & Handheld GPS')]\n",
      "[1088, (u'Electronics', u'eBook Readers & Accessories', u'Skins')]\n",
      "[1005, (u'Electronics', u'Camera & Photo', u'Underwater Photography')]\n"
     ]
    }
   ],
   "source": [
    "# Shows all the main categories (up to 3rd level) and the number of product it contains:\n",
    "min_product_num = 1000\n",
    "show_categoty(category_dict, min_product_num)"
   ]
  },
  {
   "cell_type": "code",
   "execution_count": 45,
   "metadata": {
    "collapsed": false
   },
   "outputs": [],
   "source": [
    "def get_sentence_from_category(category):\n",
    "    \"\"\"Obtain all the review sentences from a category tuple:\"\"\"\n",
    "    client, db = connect_to_db()\n",
    "    product_id_list = category_dict[category]\n",
    "    sentence_list = []\n",
    "    review_num = 0\n",
    "    for product_id in product_id_list:\n",
    "        query_res = list(db.product_collection.find({\"product_id\": product_id}))\n",
    "        contents = query_res[0][\"contents\"]\n",
    "        sentence_list += contents\n",
    "        review_num += len(query_res[0][\"review_ids\"])\n",
    "    print \"Number of products {0}\\nNumber of reviews: {1}\\nNumber of sentences: {2}\".format(len(product_id_list), review_num, len(sentence_list))\n",
    "    client.close()\n",
    "    return sentence_list\n",
    "\n",
    "\n",
    "def get_tf_idf(sentence_list):\n",
    "    \"\"\"Get tf-idf score for each word\n",
    "       The dictionary records for each word as a key, the [num_word, num_doc] value, where num_word means the number of \n",
    "       that word in the sentence_list, and num_doc means the number of sentences this word appears in.\n",
    "    \"\"\"\n",
    "    word_statistics = {}\n",
    "    i = 0\n",
    "    print \"Number of sentences processed:\"\n",
    "    # Getting each word's statistics: [num_word, num_doc]\n",
    "    for sentence in sentence_list:\n",
    "        i += 1\n",
    "        if i % 10000 == 0:\n",
    "            print i\n",
    "        tokens = tokenize(sentence, stem = False)\n",
    "        tokens_count = Counter(tokens)\n",
    "        for word in tokens_count:        \n",
    "            if word not in word_statistics:\n",
    "                word_statistics[word] = [tokens_count[word], 1]\n",
    "            else:\n",
    "                word_statistics[word][0] += tokens_count[word]\n",
    "                word_statistics[word][1] += 1\n",
    "      \n",
    "    total_num_doc = len(sentence_list)\n",
    "    word_tf_idf = []\n",
    "    \n",
    "    # Getting the maximum word frequency:\n",
    "    max_word_freq = 0\n",
    "    for word in word_statistics:\n",
    "        if word_statistics[word][0] > max_word_freq:\n",
    "            max_word_freq = word_statistics[word][0]\n",
    "    \n",
    "    # Getting the tf-idf score for each word\n",
    "    for word in word_statistics:\n",
    "        tf = float(word_statistics[word][0]) / max_word_freq\n",
    "        num_doc = word_statistics[word][1]\n",
    "        idf = math.log(float(total_num_doc)/(0 + num_doc)) \n",
    "        word_tf_idf.append([word, tf * idf, tf, idf])\n",
    "            \n",
    "    # Sorting the word_tf_idf list:\n",
    "    word_tf_idf = sorted(word_tf_idf, key=lambda tup: tup[1], reverse=True)\n",
    "    return word_tf_idf\n",
    "\n",
    "\n",
    "def get_aspect_cadidate(word_tf_idf, tag_list = [\"NN\"], threshold = 0.8):\n",
    "    '''Get cadidate aspects from word_tf_idf. Only words whose tag belong to tag_list and score > threshold will pass'''\n",
    "    aspect_cadidate = []\n",
    "    for word_data in word_tf_idf:\n",
    "        word = word_data[0]\n",
    "        tf_idf = word_data[1]\n",
    "        word_tag = pos_tag(word)[0]      \n",
    "        # If any of the tag string (e.g. \"NN\") in the given tag_list appears in the word's tag (e.g. \"NNS\")\n",
    "        if any(tag in word_tag for tag in tag_list) and word_data[1] >= threshold:\n",
    "            aspect_cadidate_data = [word, tf_idf, word_tag[1]]\n",
    "            aspect_cadidate.append(aspect_cadidate_data)\n",
    "            print [word, '%0.2f' % tf_idf, word_tag[1]]\n",
    "        if word_data[1] < threshold:\n",
    "            break\n",
    "            \n",
    "    return aspect_cadidate"
   ]
  },
  {
   "cell_type": "code",
   "execution_count": 39,
   "metadata": {
    "collapsed": false,
    "scrolled": true
   },
   "outputs": [
    {
     "name": "stdout",
     "output_type": "stream",
     "text": [
      "Number of products 609\n",
      "Number of reviews: 38847\n",
      "Number of sentences: 233048\n"
     ]
    }
   ],
   "source": [
    "# Sample categories, with decreasing number of sentences\n",
    "category = (u'Electronics', u'Computers & Accessories', u'Tablets') #2439 products, 99311 reviews, 781032 sentences\n",
    "category = (u'Cell Phones & Accessories', u'Cell Phones', u'No-Contract Cell Phones') # 743 products, 32200 reviews, 221681 sentences\n",
    "category = (u'Cell Phones & Accessories', u'Accessories', u'Bluetooth Speakers') #609 products, 38847 reviews, 233048 sentences\n",
    "# category = (u'Electronics', u'Portable Audio & Video', u'Portable DVD Players') #222 products, 3977 reviews, 22476 sentences\n",
    "sentence_list = get_sentence_from_category(category)"
   ]
  },
  {
   "cell_type": "code",
   "execution_count": null,
   "metadata": {
    "collapsed": true
   },
   "outputs": [],
   "source": [
    "word_tf_idf= get_tf_idf(sentence_list)"
   ]
  },
  {
   "cell_type": "code",
   "execution_count": 41,
   "metadata": {
    "collapsed": false
   },
   "outputs": [
    {
     "name": "stdout",
     "output_type": "stream",
     "text": [
      "[u'speaker', '1.97', 'NN']\n",
      "[u'sound', '1.90', 'NN']\n",
      "[u'great', '1.46', 'NN']\n",
      "[u'bluetooth', '1.34', 'NN']\n",
      "[u'good', '1.28', 'NN']\n",
      "[u'phone', '1.21', 'NN']\n",
      "[u'quality', '1.11', 'NN']\n",
      "[u'music', '1.01', 'NN']\n",
      "[u'volume', '0.96', 'NN']\n",
      "[u'like', '0.90', 'NN']\n",
      "[u'product', '0.89', 'NN']\n",
      "[u'device', '0.87', 'NN']\n",
      "[u'battery', '0.86', 'VB']\n",
      "[u'little', '0.85', 'NN']\n",
      "[u'easy', '0.83', 'VB']\n",
      "[u'speakers', '0.82', 'NN']\n"
     ]
    }
   ],
   "source": [
    "tag_list = [\"NN\",\"VB\"]  # Include in VB since some nouns are mis-classified as verbs\n",
    "aspect_candidate = get_aspect_cadidate(word_tf_idf, tag_list, 0.8)"
   ]
  }
 ],
 "metadata": {
  "kernelspec": {
   "display_name": "Python 2",
   "language": "python",
   "name": "python2"
  },
  "language_info": {
   "codemirror_mode": {
    "name": "ipython",
    "version": 2
   },
   "file_extension": ".py",
   "mimetype": "text/x-python",
   "name": "python",
   "nbconvert_exporter": "python",
   "pygments_lexer": "ipython2",
   "version": "2.7.10"
  }
 },
 "nbformat": 4,
 "nbformat_minor": 0
}
